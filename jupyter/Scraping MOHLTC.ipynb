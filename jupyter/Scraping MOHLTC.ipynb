{
 "cells": [
  {
   "cell_type": "markdown",
   "metadata": {},
   "source": [
    "### Scraping the 2019 Novel Coronavirus data from Ministry of Health and Long-Term Care"
   ]
  },
  {
   "cell_type": "markdown",
   "metadata": {},
   "source": [
    "Note: Due to browser requirements, need to use Selenium and [geckodriver](https://github.com/mozilla/geckodriver/releases/tag/v0.26.0) since the page checks for a javascript-enabled browser (using `requests` or `urllib` will not work)"
   ]
  },
  {
   "cell_type": "code",
   "execution_count": 12,
   "metadata": {},
   "outputs": [],
   "source": [
    "from selenium import webdriver\n",
    "from selenium.webdriver.firefox.options import Options\n",
    "from bs4 import BeautifulSoup\n",
    "import pandas as pd\n",
    "\n",
    "# Add headless option\n",
    "options = Options()\n",
    "options.add_argument(\"--headless\")\n",
    "\n",
    "# Fetch the page\n",
    "driver = webdriver.Firefox(options=options)\n",
    "driver.get('https://www.ontario.ca/page/2019-novel-coronavirus')\n",
    "\n",
    "# Get html & create soup\n",
    "pagehtml = driver.page_source\n",
    "soup = BeautifulSoup(pagehtml)"
   ]
  },
  {
   "cell_type": "markdown",
   "metadata": {},
   "source": [
    "### Date and time (for ouput)"
   ]
  },
  {
   "cell_type": "code",
   "execution_count": null,
   "metadata": {},
   "outputs": [],
   "source": []
  },
  {
   "cell_type": "markdown",
   "metadata": {},
   "source": [
    "### Status Update - Single line table"
   ]
  },
  {
   "cell_type": "code",
   "execution_count": 9,
   "metadata": {},
   "outputs": [],
   "source": [
    "# Get the status update table\n",
    "status_update = pd.read_html(pagehtml)[0]"
   ]
  },
  {
   "cell_type": "code",
   "execution_count": 10,
   "metadata": {},
   "outputs": [
    {
     "data": {
      "text/html": [
       "<div>\n",
       "<style scoped>\n",
       "    .dataframe tbody tr th:only-of-type {\n",
       "        vertical-align: middle;\n",
       "    }\n",
       "\n",
       "    .dataframe tbody tr th {\n",
       "        vertical-align: top;\n",
       "    }\n",
       "\n",
       "    .dataframe thead th {\n",
       "        text-align: right;\n",
       "    }\n",
       "</style>\n",
       "<table border=\"1\" class=\"dataframe\">\n",
       "  <thead>\n",
       "    <tr style=\"text-align: right;\">\n",
       "      <th></th>\n",
       "      <th>Negative1</th>\n",
       "      <th>Currently under investigation2</th>\n",
       "      <th>Confirmed positive3</th>\n",
       "      <th>Resolved4</th>\n",
       "      <th>Deceased</th>\n",
       "      <th>Total number of patients approved for COVID-19 testing to date</th>\n",
       "    </tr>\n",
       "  </thead>\n",
       "  <tbody>\n",
       "    <tr>\n",
       "      <th>1</th>\n",
       "      <td>24458</td>\n",
       "      <td>10489</td>\n",
       "      <td>667</td>\n",
       "      <td>8</td>\n",
       "      <td>13</td>\n",
       "      <td>35635</td>\n",
       "    </tr>\n",
       "  </tbody>\n",
       "</table>\n",
       "</div>"
      ],
      "text/plain": [
       "0 Negative1 Currently under investigation2 Confirmed positive3 Resolved4  \\\n",
       "1     24458                          10489                 667         8   \n",
       "\n",
       "0 Deceased Total number of patients approved for COVID-19 testing to date  \n",
       "1       13                                              35635              "
      ]
     },
     "execution_count": 10,
     "metadata": {},
     "output_type": "execute_result"
    }
   ],
   "source": [
    "st2 = status_update.transpose()\n",
    "st2.columns = st2.iloc[0,:]\n",
    "st2.drop(index=0, axis=0, inplace=True)\n",
    "st2"
   ]
  },
  {
   "cell_type": "code",
   "execution_count": 7,
   "metadata": {},
   "outputs": [
    {
     "data": {
      "text/html": [
       "<div>\n",
       "<style scoped>\n",
       "    .dataframe tbody tr th:only-of-type {\n",
       "        vertical-align: middle;\n",
       "    }\n",
       "\n",
       "    .dataframe tbody tr th {\n",
       "        vertical-align: top;\n",
       "    }\n",
       "\n",
       "    .dataframe thead th {\n",
       "        text-align: right;\n",
       "    }\n",
       "</style>\n",
       "<table border=\"1\" class=\"dataframe\">\n",
       "  <thead>\n",
       "    <tr style=\"text-align: right;\">\n",
       "      <th></th>\n",
       "      <th>Negative1</th>\n",
       "      <th>Currently under investigation2</th>\n",
       "      <th>Confirmed positive3</th>\n",
       "      <th>Resolved4</th>\n",
       "      <th>Deceased</th>\n",
       "      <th>Total number of patients approved for COVID-19 testing to date</th>\n",
       "    </tr>\n",
       "  </thead>\n",
       "  <tbody>\n",
       "    <tr>\n",
       "      <th>1</th>\n",
       "      <td>24458</td>\n",
       "      <td>10489</td>\n",
       "      <td>667</td>\n",
       "      <td>8</td>\n",
       "      <td>13</td>\n",
       "      <td>35635</td>\n",
       "    </tr>\n",
       "  </tbody>\n",
       "</table>\n",
       "</div>"
      ],
      "text/plain": [
       "0 Negative1 Currently under investigation2 Confirmed positive3 Resolved4  \\\n",
       "1     24458                          10489                 667         8   \n",
       "\n",
       "0 Deceased Total number of patients approved for COVID-19 testing to date  \n",
       "1       13                                              35635              "
      ]
     },
     "execution_count": 7,
     "metadata": {},
     "output_type": "execute_result"
    }
   ],
   "source": [
    "st2.to_csv('')"
   ]
  },
  {
   "cell_type": "markdown",
   "metadata": {},
   "source": [
    "### Detailed Patient Information"
   ]
  },
  {
   "cell_type": "code",
   "execution_count": 11,
   "metadata": {},
   "outputs": [
    {
     "data": {
      "text/html": [
       "<div>\n",
       "<style scoped>\n",
       "    .dataframe tbody tr th:only-of-type {\n",
       "        vertical-align: middle;\n",
       "    }\n",
       "\n",
       "    .dataframe tbody tr th {\n",
       "        vertical-align: top;\n",
       "    }\n",
       "\n",
       "    .dataframe thead th {\n",
       "        text-align: right;\n",
       "    }\n",
       "</style>\n",
       "<table border=\"1\" class=\"dataframe\">\n",
       "  <thead>\n",
       "    <tr style=\"text-align: right;\">\n",
       "      <th></th>\n",
       "      <th>Case number</th>\n",
       "      <th>Patient  (age and gender)</th>\n",
       "      <th>Public Health Unit</th>\n",
       "      <th>Transmission  (community, travel or close contact)</th>\n",
       "      <th>Status</th>\n",
       "    </tr>\n",
       "  </thead>\n",
       "  <tbody>\n",
       "    <tr>\n",
       "      <th>0</th>\n",
       "      <td>589</td>\n",
       "      <td>70s Male</td>\n",
       "      <td>Wellington Dufferin Guelph</td>\n",
       "      <td>travel (Spain, France)</td>\n",
       "      <td>self-isolating</td>\n",
       "    </tr>\n",
       "    <tr>\n",
       "      <th>1</th>\n",
       "      <td>590</td>\n",
       "      <td>20s Female</td>\n",
       "      <td>York</td>\n",
       "      <td>travel (Dominican)</td>\n",
       "      <td>self-isolating</td>\n",
       "    </tr>\n",
       "    <tr>\n",
       "      <th>2</th>\n",
       "      <td>591</td>\n",
       "      <td>40s Female</td>\n",
       "      <td>Toronto</td>\n",
       "      <td>pending</td>\n",
       "      <td>self-isolating</td>\n",
       "    </tr>\n",
       "    <tr>\n",
       "      <th>3</th>\n",
       "      <td>592</td>\n",
       "      <td>30s Male</td>\n",
       "      <td>Peel</td>\n",
       "      <td>pending</td>\n",
       "      <td>self-isolating</td>\n",
       "    </tr>\n",
       "    <tr>\n",
       "      <th>4</th>\n",
       "      <td>593</td>\n",
       "      <td>60s Male</td>\n",
       "      <td>Peel</td>\n",
       "      <td>travel (UK)</td>\n",
       "      <td>self-isolating</td>\n",
       "    </tr>\n",
       "    <tr>\n",
       "      <th>...</th>\n",
       "      <td>...</td>\n",
       "      <td>...</td>\n",
       "      <td>...</td>\n",
       "      <td>...</td>\n",
       "      <td>...</td>\n",
       "    </tr>\n",
       "    <tr>\n",
       "      <th>95</th>\n",
       "      <td>684</td>\n",
       "      <td>pending</td>\n",
       "      <td>pending</td>\n",
       "      <td>pending</td>\n",
       "      <td>pending</td>\n",
       "    </tr>\n",
       "    <tr>\n",
       "      <th>96</th>\n",
       "      <td>685</td>\n",
       "      <td>pending</td>\n",
       "      <td>pending</td>\n",
       "      <td>pending</td>\n",
       "      <td>pending</td>\n",
       "    </tr>\n",
       "    <tr>\n",
       "      <th>97</th>\n",
       "      <td>686</td>\n",
       "      <td>pending</td>\n",
       "      <td>pending</td>\n",
       "      <td>pending</td>\n",
       "      <td>pending</td>\n",
       "    </tr>\n",
       "    <tr>\n",
       "      <th>98</th>\n",
       "      <td>687</td>\n",
       "      <td>pending</td>\n",
       "      <td>pending</td>\n",
       "      <td>pending</td>\n",
       "      <td>pending</td>\n",
       "    </tr>\n",
       "    <tr>\n",
       "      <th>99</th>\n",
       "      <td>688</td>\n",
       "      <td>pending</td>\n",
       "      <td>pending</td>\n",
       "      <td>pending</td>\n",
       "      <td>pending</td>\n",
       "    </tr>\n",
       "  </tbody>\n",
       "</table>\n",
       "<p>100 rows × 5 columns</p>\n",
       "</div>"
      ],
      "text/plain": [
       "    Case number Patient  (age and gender)          Public Health Unit  \\\n",
       "0           589                  70s Male  Wellington Dufferin Guelph   \n",
       "1           590                20s Female                        York   \n",
       "2           591                40s Female                     Toronto   \n",
       "3           592                  30s Male                        Peel   \n",
       "4           593                  60s Male                        Peel   \n",
       "..          ...                       ...                         ...   \n",
       "95          684                   pending                     pending   \n",
       "96          685                   pending                     pending   \n",
       "97          686                   pending                     pending   \n",
       "98          687                   pending                     pending   \n",
       "99          688                   pending                     pending   \n",
       "\n",
       "   Transmission  (community, travel or close contact)          Status  \n",
       "0                              travel (Spain, France)  self-isolating  \n",
       "1                                  travel (Dominican)  self-isolating  \n",
       "2                                             pending  self-isolating  \n",
       "3                                             pending  self-isolating  \n",
       "4                                         travel (UK)  self-isolating  \n",
       "..                                                ...             ...  \n",
       "95                                            pending         pending  \n",
       "96                                            pending         pending  \n",
       "97                                            pending         pending  \n",
       "98                                            pending         pending  \n",
       "99                                            pending         pending  \n",
       "\n",
       "[100 rows x 5 columns]"
      ]
     },
     "execution_count": 11,
     "metadata": {},
     "output_type": "execute_result"
    }
   ],
   "source": [
    "pd.read_html(pagehtml)[1]"
   ]
  }
 ],
 "metadata": {
  "kernelspec": {
   "display_name": "Python 3",
   "language": "python",
   "name": "python3"
  },
  "language_info": {
   "codemirror_mode": {
    "name": "ipython",
    "version": 3
   },
   "file_extension": ".py",
   "mimetype": "text/x-python",
   "name": "python",
   "nbconvert_exporter": "python",
   "pygments_lexer": "ipython3",
   "version": "3.7.5"
  }
 },
 "nbformat": 4,
 "nbformat_minor": 2
}
