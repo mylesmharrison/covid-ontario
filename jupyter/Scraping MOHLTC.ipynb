{
 "cells": [
  {
   "cell_type": "markdown",
   "metadata": {},
   "source": [
    "### Scraping the 2019 Novel Coronavirus data from Ministry of Health and Long-Term Care"
   ]
  },
  {
   "cell_type": "markdown",
   "metadata": {},
   "source": [
    "Note: Due to browser requirements, need to use Selenium and [geckodriver](https://github.com/mozilla/geckodriver/releases/tag/v0.26.0) since the page checks for a javascript-enabled browser (using `requests` or `urllib` will not work)"
   ]
  },
  {
   "cell_type": "code",
   "execution_count": 4,
   "metadata": {},
   "outputs": [],
   "source": [
    "from bs4 import BeautifulSoup\n",
    "from selenium import webdriver\n",
    "import pandas as pd\n",
    "import requests\n",
    "\n",
    "driver = webdriver.Firefox()\n",
    "driver.get('https://www.ontario.ca/page/2019-novel-coronavirus')\n",
    "\n",
    "html = driver.page_source\n",
    "soup = BeautifulSoup(html)"
   ]
  },
  {
   "cell_type": "markdown",
   "metadata": {},
   "source": [
    "### Status Update - Single line table"
   ]
  },
  {
   "cell_type": "code",
   "execution_count": 16,
   "metadata": {},
   "outputs": [],
   "source": [
    "# Get the status update table\n",
    "status_update = pd.read_html(driver.page_source)[0]"
   ]
  },
  {
   "cell_type": "code",
   "execution_count": 37,
   "metadata": {},
   "outputs": [
    {
     "data": {
      "text/html": [
       "<div>\n",
       "<style scoped>\n",
       "    .dataframe tbody tr th:only-of-type {\n",
       "        vertical-align: middle;\n",
       "    }\n",
       "\n",
       "    .dataframe tbody tr th {\n",
       "        vertical-align: top;\n",
       "    }\n",
       "\n",
       "    .dataframe thead th {\n",
       "        text-align: right;\n",
       "    }\n",
       "</style>\n",
       "<table border=\"1\" class=\"dataframe\">\n",
       "  <thead>\n",
       "    <tr style=\"text-align: right;\">\n",
       "      <th></th>\n",
       "      <th>Negative1</th>\n",
       "      <th>Currently under investigation2</th>\n",
       "      <th>Confirmed positive3</th>\n",
       "      <th>Resolved4</th>\n",
       "      <th>Deceased</th>\n",
       "      <th>Total number of patients approved for COVID-19 testing to date</th>\n",
       "    </tr>\n",
       "  </thead>\n",
       "  <tbody>\n",
       "    <tr>\n",
       "      <th>1</th>\n",
       "      <td>21795</td>\n",
       "      <td>10074</td>\n",
       "      <td>572</td>\n",
       "      <td>8</td>\n",
       "      <td>8</td>\n",
       "      <td>32457</td>\n",
       "    </tr>\n",
       "  </tbody>\n",
       "</table>\n",
       "</div>"
      ],
      "text/plain": [
       "0 Negative1 Currently under investigation2 Confirmed positive3 Resolved4  \\\n",
       "1     21795                          10074                 572         8   \n",
       "\n",
       "0 Deceased Total number of patients approved for COVID-19 testing to date  \n",
       "1        8                                              32457              "
      ]
     },
     "execution_count": 37,
     "metadata": {},
     "output_type": "execute_result"
    }
   ],
   "source": [
    "st2 = status_update.transpose()\n",
    "st2.columns = st2.iloc[0,:]\n",
    "st2.drop(index=0, axis=0, inplace=True)\n",
    "st2"
   ]
  },
  {
   "cell_type": "code",
   "execution_count": 26,
   "metadata": {},
   "outputs": [
    {
     "data": {
      "text/plain": [
       "0\n",
       "Negative1                                                         21795\n",
       "Currently under investigation2                                    10074\n",
       "Confirmed positive3                                                 572\n",
       "Resolved4                                                             8\n",
       "Deceased                                                              8\n",
       "Total number of patients approved for COVID-19 testing to date    32457\n",
       "Name: 1, dtype: object"
      ]
     },
     "execution_count": 26,
     "metadata": {},
     "output_type": "execute_result"
    }
   ],
   "source": [
    "st2"
   ]
  },
  {
   "cell_type": "markdown",
   "metadata": {},
   "source": [
    "### Detailed Patient Information"
   ]
  },
  {
   "cell_type": "code",
   "execution_count": 40,
   "metadata": {},
   "outputs": [
    {
     "data": {
      "text/html": [
       "<div>\n",
       "<style scoped>\n",
       "    .dataframe tbody tr th:only-of-type {\n",
       "        vertical-align: middle;\n",
       "    }\n",
       "\n",
       "    .dataframe tbody tr th {\n",
       "        vertical-align: top;\n",
       "    }\n",
       "\n",
       "    .dataframe thead th {\n",
       "        text-align: right;\n",
       "    }\n",
       "</style>\n",
       "<table border=\"1\" class=\"dataframe\">\n",
       "  <thead>\n",
       "    <tr style=\"text-align: right;\">\n",
       "      <th></th>\n",
       "      <th>Case number</th>\n",
       "      <th>Patient  (age and gender)</th>\n",
       "      <th>Public Health Unit</th>\n",
       "      <th>Transmission  (community, travel or close contact)</th>\n",
       "      <th>Status</th>\n",
       "    </tr>\n",
       "  </thead>\n",
       "  <tbody>\n",
       "    <tr>\n",
       "      <th>0</th>\n",
       "      <td>504</td>\n",
       "      <td>30s Male</td>\n",
       "      <td>Kingston Frontenac Lennox Addington</td>\n",
       "      <td>travel (UK)</td>\n",
       "      <td>self-isolating</td>\n",
       "    </tr>\n",
       "    <tr>\n",
       "      <th>1</th>\n",
       "      <td>505</td>\n",
       "      <td>70s Female</td>\n",
       "      <td>Kingston Frontenac Lennox Addington</td>\n",
       "      <td>travel (Singapore)</td>\n",
       "      <td>self-isolating</td>\n",
       "    </tr>\n",
       "    <tr>\n",
       "      <th>2</th>\n",
       "      <td>506</td>\n",
       "      <td>70s Male</td>\n",
       "      <td>Kingston Frontenac Lennox Addington</td>\n",
       "      <td>travel (Singapore)</td>\n",
       "      <td>self-isolating</td>\n",
       "    </tr>\n",
       "    <tr>\n",
       "      <th>3</th>\n",
       "      <td>507</td>\n",
       "      <td>40s Female</td>\n",
       "      <td>Waterloo</td>\n",
       "      <td>pending</td>\n",
       "      <td>self-isolating</td>\n",
       "    </tr>\n",
       "    <tr>\n",
       "      <th>4</th>\n",
       "      <td>508</td>\n",
       "      <td>30s Female</td>\n",
       "      <td>Toronto</td>\n",
       "      <td>pending</td>\n",
       "      <td>self-isolating</td>\n",
       "    </tr>\n",
       "    <tr>\n",
       "      <th>...</th>\n",
       "      <td>...</td>\n",
       "      <td>...</td>\n",
       "      <td>...</td>\n",
       "      <td>...</td>\n",
       "      <td>...</td>\n",
       "    </tr>\n",
       "    <tr>\n",
       "      <th>80</th>\n",
       "      <td>584</td>\n",
       "      <td>pending</td>\n",
       "      <td>pending</td>\n",
       "      <td>pending</td>\n",
       "      <td>pending</td>\n",
       "    </tr>\n",
       "    <tr>\n",
       "      <th>81</th>\n",
       "      <td>585</td>\n",
       "      <td>pending</td>\n",
       "      <td>pending</td>\n",
       "      <td>pending</td>\n",
       "      <td>pending</td>\n",
       "    </tr>\n",
       "    <tr>\n",
       "      <th>82</th>\n",
       "      <td>586</td>\n",
       "      <td>pending</td>\n",
       "      <td>pending</td>\n",
       "      <td>pending</td>\n",
       "      <td>pending</td>\n",
       "    </tr>\n",
       "    <tr>\n",
       "      <th>83</th>\n",
       "      <td>587</td>\n",
       "      <td>pending</td>\n",
       "      <td>pending</td>\n",
       "      <td>pending</td>\n",
       "      <td>pending</td>\n",
       "    </tr>\n",
       "    <tr>\n",
       "      <th>84</th>\n",
       "      <td>588</td>\n",
       "      <td>pending</td>\n",
       "      <td>pending</td>\n",
       "      <td>pending</td>\n",
       "      <td>pending</td>\n",
       "    </tr>\n",
       "  </tbody>\n",
       "</table>\n",
       "<p>85 rows × 5 columns</p>\n",
       "</div>"
      ],
      "text/plain": [
       "    Case number Patient  (age and gender)  \\\n",
       "0           504                  30s Male   \n",
       "1           505                70s Female   \n",
       "2           506                  70s Male   \n",
       "3           507                40s Female   \n",
       "4           508                30s Female   \n",
       "..          ...                       ...   \n",
       "80          584                   pending   \n",
       "81          585                   pending   \n",
       "82          586                   pending   \n",
       "83          587                   pending   \n",
       "84          588                   pending   \n",
       "\n",
       "                     Public Health Unit  \\\n",
       "0   Kingston Frontenac Lennox Addington   \n",
       "1   Kingston Frontenac Lennox Addington   \n",
       "2   Kingston Frontenac Lennox Addington   \n",
       "3                              Waterloo   \n",
       "4                               Toronto   \n",
       "..                                  ...   \n",
       "80                              pending   \n",
       "81                              pending   \n",
       "82                              pending   \n",
       "83                              pending   \n",
       "84                              pending   \n",
       "\n",
       "   Transmission  (community, travel or close contact)          Status  \n",
       "0                                         travel (UK)  self-isolating  \n",
       "1                                  travel (Singapore)  self-isolating  \n",
       "2                                  travel (Singapore)  self-isolating  \n",
       "3                                             pending  self-isolating  \n",
       "4                                             pending  self-isolating  \n",
       "..                                                ...             ...  \n",
       "80                                            pending         pending  \n",
       "81                                            pending         pending  \n",
       "82                                            pending         pending  \n",
       "83                                            pending         pending  \n",
       "84                                            pending         pending  \n",
       "\n",
       "[85 rows x 5 columns]"
      ]
     },
     "execution_count": 40,
     "metadata": {},
     "output_type": "execute_result"
    }
   ],
   "source": [
    "pd.read_html(driver.page_source)[1]"
   ]
  }
 ],
 "metadata": {
  "kernelspec": {
   "display_name": "Python 3",
   "language": "python",
   "name": "python3"
  },
  "language_info": {
   "codemirror_mode": {
    "name": "ipython",
    "version": 3
   },
   "file_extension": ".py",
   "mimetype": "text/x-python",
   "name": "python",
   "nbconvert_exporter": "python",
   "pygments_lexer": "ipython3",
   "version": "3.7.5"
  }
 },
 "nbformat": 4,
 "nbformat_minor": 2
}
